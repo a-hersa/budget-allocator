{
 "cells": [
  {
   "cell_type": "code",
   "execution_count": 1,
   "metadata": {},
   "outputs": [],
   "source": [
    "import numpy as np\n",
    "import pandas as pd\n",
    "from scipy.stats import truncnorm"
   ]
  },
  {
   "cell_type": "code",
   "execution_count": 2,
   "metadata": {},
   "outputs": [],
   "source": [
    "# Configuración general\n",
    "np.random.seed(42)  # Para reproducibilidad\n",
    "n_days = 180  # Número de días (180 días ≈ 6 meses)\n",
    "\n",
    "# Rango de presupuesto diario\n",
    "min_spend = 200  # Gasto mínimo diario (€)\n",
    "max_spend = 1000  # Gasto máximo diario (€)"
   ]
  },
  {
   "cell_type": "code",
   "execution_count": 3,
   "metadata": {},
   "outputs": [],
   "source": [
    "# Parámetros de las plataformas\n",
    "platforms = {\n",
    "    'Google Ads': {'cpm': 5, 'ctr': 0.02, 'alpha': 0.001, 'beta': 0.03},\n",
    "    'Facebook Ads': {'cpm': 4, 'ctr': 0.015, 'alpha': 0.0008, 'beta': 0.025},\n",
    "    'Programmatic': {'cpm': 6, 'ctr': 0.012, 'alpha': 0.0006, 'beta': 0.02}\n",
    "}"
   ]
  },
  {
   "cell_type": "code",
   "execution_count": 4,
   "metadata": {},
   "outputs": [],
   "source": [
    "data = []"
   ]
  },
  {
   "cell_type": "code",
   "execution_count": 5,
   "metadata": {},
   "outputs": [],
   "source": [
    "date = pd.Timestamp('2023-01-01')"
   ]
  },
  {
   "cell_type": "code",
   "execution_count": 6,
   "metadata": {},
   "outputs": [],
   "source": [
    "spend = np.random.uniform(min_spend, max_spend)"
   ]
  },
  {
   "cell_type": "code",
   "execution_count": 7,
   "metadata": {},
   "outputs": [
    {
     "data": {
      "text/plain": [
       "(Timestamp('2023-01-01 00:00:00'), 499.63209507788997)"
      ]
     },
     "execution_count": 7,
     "metadata": {},
     "output_type": "execute_result"
    }
   ],
   "source": [
    "date, spend"
   ]
  },
  {
   "cell_type": "code",
   "execution_count": 8,
   "metadata": {},
   "outputs": [
    {
     "name": "stdout",
     "output_type": "stream",
     "text": [
      "Google Ads\n",
      "{'cpm': 5, 'ctr': 0.02, 'alpha': 0.001, 'beta': 0.03}\n",
      "Facebook Ads\n",
      "{'cpm': 4, 'ctr': 0.015, 'alpha': 0.0008, 'beta': 0.025}\n",
      "Programmatic\n",
      "{'cpm': 6, 'ctr': 0.012, 'alpha': 0.0006, 'beta': 0.02}\n"
     ]
    }
   ],
   "source": [
    "for platform, params in platforms.items():\n",
    "    print(platform)\n",
    "    print(params)"
   ]
  },
  {
   "cell_type": "code",
   "execution_count": 9,
   "metadata": {},
   "outputs": [],
   "source": [
    "# Función para generar gasto con una distribución normal truncada\n",
    "def generate_normal_spend(min_spend, max_spend, mean_spend, std_spend, n_days):\n",
    "    # Definir la distribución truncada para que los valores estén entre min_spend y max_spend\n",
    "    lower_bound = (min_spend - mean_spend) / std_spend\n",
    "    upper_bound = (max_spend - mean_spend) / std_spend\n",
    "    spend_distribution = truncnorm(lower_bound, upper_bound, loc=mean_spend, scale=std_spend)\n",
    "    \n",
    "    # Generar el gasto diario\n",
    "    spend = spend_distribution.rvs(n_days)\n",
    "    return spend"
   ]
  },
  {
   "cell_type": "code",
   "execution_count": 10,
   "metadata": {},
   "outputs": [],
   "source": [
    "# Parámetros para la distribución normal truncada del gasto\n",
    "mean_spend = 600  # Media del gasto\n",
    "std_spend = 150   # Desviación estándar del gasto"
   ]
  },
  {
   "cell_type": "code",
   "execution_count": 13,
   "metadata": {},
   "outputs": [],
   "source": [
    "# Generar los datos nuevamente pero con gasto normal\n",
    "def generate_data_with_normal_spend(platform, params, n_days):\n",
    "    data = []\n",
    "    spend_values = generate_normal_spend(min_spend, max_spend, mean_spend, std_spend, n_days)\n",
    "    \n",
    "    for day in range(n_days):\n",
    "        date = pd.Timestamp('2023-01-01') + pd.Timedelta(days=day)\n",
    "        spend = spend_values[day]\n",
    "        impressions = int((spend / params['cpm']) * 1000)\n",
    "        clicks = int(impressions * params['ctr'])\n",
    "        if impressions > 0:\n",
    "            conversion_rate = params['alpha'] * np.log(impressions + 1) + params['beta']\n",
    "            conversion_rate = max(0, min(conversion_rate, 1))\n",
    "        else:\n",
    "            conversion_rate = 0\n",
    "        conversions = int(clicks * conversion_rate)\n",
    "        data.append([date, platform, spend, impressions, clicks, conversions])\n",
    "    \n",
    "    return data\n",
    "\n",
    "# Generar los datos con gasto normalmente distribuido\n",
    "all_data_with_normal_spend = []\n",
    "for platform, params in platforms.items():\n",
    "    platform_data = generate_data_with_normal_spend(platform, params, n_days)\n",
    "    all_data_with_normal_spend.extend(platform_data)\n",
    "\n",
    "# Convertir a DataFrame\n",
    "columns = ['Fecha', 'Plataforma', 'Gasto (€)', 'Impresiones', 'Clics', 'Conversiones']\n",
    "df_with_normal_spend = pd.DataFrame(all_data_with_normal_spend, columns=columns)\n",
    "\n",
    "# Guardar el nuevo dataset\n",
    "df_with_normal_spend.to_csv('simulated_ad_data_with_normal_spend.csv', index=False)"
   ]
  }
 ],
 "metadata": {
  "kernelspec": {
   "display_name": "Python 3",
   "language": "python",
   "name": "python3"
  },
  "language_info": {
   "codemirror_mode": {
    "name": "ipython",
    "version": 3
   },
   "file_extension": ".py",
   "mimetype": "text/x-python",
   "name": "python",
   "nbconvert_exporter": "python",
   "pygments_lexer": "ipython3",
   "version": "3.9.20"
  }
 },
 "nbformat": 4,
 "nbformat_minor": 2
}
