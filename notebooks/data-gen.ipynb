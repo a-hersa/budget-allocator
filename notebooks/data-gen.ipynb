{
 "cells": [
  {
   "cell_type": "code",
   "execution_count": 9,
   "metadata": {},
   "outputs": [],
   "source": [
    "import numpy as np\n",
    "import pandas as pd\n",
    "\n",
    "import warnings\n",
    "warnings.filterwarnings('ignore')"
   ]
  },
  {
   "cell_type": "code",
   "execution_count": 2,
   "metadata": {},
   "outputs": [],
   "source": [
    "# Configuración general\n",
    "np.random.seed(42)  # Para reproducibilidad\n",
    "n_days = 180  # Número de días (180 días ≈ 6 meses)"
   ]
  },
  {
   "cell_type": "code",
   "execution_count": 16,
   "metadata": {},
   "outputs": [],
   "source": [
    "# Parámetros de las plataformas\n",
    "platforms = {\n",
    "    'Google Ads': {'cpm': 5, 'ctr': 0.02, 'alpha': 0.001, 'beta': 0.03},\n",
    "    'Facebook Ads': {'cpm': 4, 'ctr': 0.015, 'alpha': 0.0008, 'beta': 0.025},\n",
    "    'Programmatic': {'cpm': 6, 'ctr': 0.012, 'alpha': 0.0006, 'beta': 0.02}\n",
    "}"
   ]
  },
  {
   "cell_type": "code",
   "execution_count": 4,
   "metadata": {},
   "outputs": [],
   "source": [
    "data = []"
   ]
  },
  {
   "cell_type": "code",
   "execution_count": 5,
   "metadata": {},
   "outputs": [],
   "source": [
    "date = pd.Timestamp('2023-01-01')"
   ]
  },
  {
   "cell_type": "code",
   "execution_count": 6,
   "metadata": {},
   "outputs": [
    {
     "name": "stdout",
     "output_type": "stream",
     "text": [
      "Google Ads\n",
      "{'cpm': 5, 'ctr': 0.02, 'alpha': 0.001, 'beta': 0.03}\n",
      "Facebook Ads\n",
      "{'cpm': 4, 'ctr': 0.015, 'alpha': 0.0008, 'beta': 0.025}\n",
      "Programmatic\n",
      "{'cpm': 6, 'ctr': 0.012, 'alpha': 0.0006, 'beta': 0.02}\n"
     ]
    }
   ],
   "source": [
    "for platform, params in platforms.items():\n",
    "    print(platform)\n",
    "    print(params)"
   ]
  },
  {
   "cell_type": "code",
   "execution_count": 7,
   "metadata": {},
   "outputs": [],
   "source": [
    "# Parámetros para la distribución normal truncada del gasto\n",
    "mean_spend = 600  # Media del gasto\n",
    "std_spend = 150   # Desviación estándar del gasto"
   ]
  },
  {
   "cell_type": "code",
   "execution_count": 17,
   "metadata": {},
   "outputs": [],
   "source": [
    "def generate_data(platform, params, n_days):\n",
    "    data = []\n",
    "    spend_values = np.random.normal(loc=mean_spend, scale=std_spend, size=n_days)\n",
    "    \n",
    "    for day in range(n_days):\n",
    "        date = pd.Timestamp('2023-01-01') + pd.Timedelta(days=day)\n",
    "        spend = spend_values[day]\n",
    "        impressions = int((spend / params['cpm']) * 1000)\n",
    "        clicks = int(impressions * params['ctr'])\n",
    "        if impressions > 0:\n",
    "            # Ajustar la tasa de conversión para que decrezca\n",
    "            conversion_rate = params['alpha'] * np.log(impressions + 1) + params['beta']\n",
    "            conversion_rate = max(0, min(conversion_rate, 1))  # Limitar entre 0 y 1\n",
    "        else:\n",
    "            conversion_rate = 0\n",
    "        conversions = int(clicks * conversion_rate)\n",
    "        data.append([date, platform, spend, impressions, clicks, conversions])\n",
    "    \n",
    "    return data\n",
    "\n",
    "# Regenerar los datos ajustados para las tres plataformas\n",
    "adjusted_data = []\n",
    "for platform, params in platforms.items():\n",
    "    platform_data = generate_data(platform, params, n_days)\n",
    "    adjusted_data.extend(platform_data)\n",
    "\n",
    "# Convertir a DataFrame con los datos ajustados\n",
    "columns = ['Fecha', 'Plataforma', 'Gasto (€)', 'Impresiones', 'Clics', 'Conversiones']\n",
    "df = pd.DataFrame(adjusted_data, columns=columns)\n",
    "df = df[df['Gasto (€)'] > 0]\n",
    "# Añadir columnas de CTR y CPA al dataframe ajustado\n",
    "df['CTR'] = df['Clics'] / df['Impresiones']\n",
    "df['CPA'] = df['Gasto (€)'] / df['Conversiones']\n",
    "df['CR'] = df['Clics'] / df['Conversiones']\n",
    "df['CPA'].replace([float('inf'), -float('inf')], np.nan, inplace=True)  # Evitar valores infinitos\n",
    "\n",
    "# Guardar el nuevo dataset\n",
    "df.to_csv('data.csv', index=False)"
   ]
  }
 ],
 "metadata": {
  "kernelspec": {
   "display_name": "Python 3",
   "language": "python",
   "name": "python3"
  },
  "language_info": {
   "codemirror_mode": {
    "name": "ipython",
    "version": 3
   },
   "file_extension": ".py",
   "mimetype": "text/x-python",
   "name": "python",
   "nbconvert_exporter": "python",
   "pygments_lexer": "ipython3",
   "version": "3.9.20"
  }
 },
 "nbformat": 4,
 "nbformat_minor": 2
}
